{
  "nbformat": 4,
  "nbformat_minor": 0,
  "metadata": {
    "colab": {
      "name": "NLP_Assignment_3.ipynb",
      "provenance": [],
      "collapsed_sections": []
    },
    "kernelspec": {
      "name": "python3",
      "display_name": "Python 3"
    },
    "accelerator": "GPU"
  },
  "cells": [
    {
      "cell_type": "code",
      "metadata": {
        "id": "TdT2Jpp1__jW",
        "colab_type": "code",
        "colab": {}
      },
      "source": [
        "import numpy as np\n",
        "from nltk.tokenize import TweetTokenizer\n",
        "import string\n",
        "import pandas as pd\n",
        "from keras.preprocessing.text import Tokenizer\n",
        "from keras.preprocessing.sequence import pad_sequences"
      ],
      "execution_count": 0,
      "outputs": []
    },
    {
      "cell_type": "code",
      "metadata": {
        "id": "2MDotKFiAGby",
        "colab_type": "code",
        "colab": {
          "base_uri": "https://localhost:8080/",
          "height": 34
        },
        "outputId": "3f7302d4-3d4a-4c6b-99ae-35e5f046ae40"
      },
      "source": [
        "from google.colab import drive\n",
        "drive.mount('/content/drive')"
      ],
      "execution_count": 57,
      "outputs": [
        {
          "output_type": "stream",
          "text": [
            "Drive already mounted at /content/drive; to attempt to forcibly remount, call drive.mount(\"/content/drive\", force_remount=True).\n"
          ],
          "name": "stdout"
        }
      ]
    },
    {
      "cell_type": "code",
      "metadata": {
        "id": "inv3O3J2A8_-",
        "colab_type": "code",
        "colab": {
          "base_uri": "https://localhost:8080/",
          "height": 688
        },
        "outputId": "169213fa-0618-4568-83d1-230f4fdc9f64"
      },
      "source": [
        "trainCSV = '/content/drive/My Drive/nlp assignment 3/train.csv'\n",
        "test_csv_path = '/content/drive/My Drive/nlp assignment 3/test.csv'\n",
        "\n",
        "trainDataFrame = pd.read_csv(trainCSV, delimiter=\"\\t\")\n",
        "testDataFrame = pd.read_csv(test_csv_path, delimiter=\"\\t\")\n",
        "print((trainDataFrame))\n",
        "print(testDataFrame)\n",
        "trainDataFrame.head()\n",
        "testDataFrame.head()"
      ],
      "execution_count": 58,
      "outputs": [
        {
          "output_type": "stream",
          "text": [
            "                 meta  uid sentiment\n",
            "0                meta    3  negative\n",
            "1                   @    O       NaN\n",
            "2       AdilNisarButt  Hin       NaN\n",
            "3            pakistan  Hin       NaN\n",
            "4                  ka  Hin       NaN\n",
            "...               ...  ...       ...\n",
            "367339           kuch  Hin       NaN\n",
            "367340            bhi  Hin       NaN\n",
            "367341           nahi  Hin       NaN\n",
            "367342        karenge  Hin       NaN\n",
            "367343              .    O       NaN\n",
            "\n",
            "[367344 rows x 3 columns]\n",
            "                  meta  uid sentiment\n",
            "0                 meta    8   neutral\n",
            "1                   RT  Eng       NaN\n",
            "2                    @    O       NaN\n",
            "3      UAAPconfessions  Eng       NaN\n",
            "4                 Love  Eng       NaN\n",
            "...                ...  ...       ...\n",
            "50083               ko  Hin       NaN\n",
            "50084               ..    O       NaN\n",
            "50085            Shame  Eng       NaN\n",
            "50086               on  Eng       NaN\n",
            "50087              mla  Hin       NaN\n",
            "\n",
            "[50088 rows x 3 columns]\n"
          ],
          "name": "stdout"
        },
        {
          "output_type": "execute_result",
          "data": {
            "text/html": [
              "<div>\n",
              "<style scoped>\n",
              "    .dataframe tbody tr th:only-of-type {\n",
              "        vertical-align: middle;\n",
              "    }\n",
              "\n",
              "    .dataframe tbody tr th {\n",
              "        vertical-align: top;\n",
              "    }\n",
              "\n",
              "    .dataframe thead th {\n",
              "        text-align: right;\n",
              "    }\n",
              "</style>\n",
              "<table border=\"1\" class=\"dataframe\">\n",
              "  <thead>\n",
              "    <tr style=\"text-align: right;\">\n",
              "      <th></th>\n",
              "      <th>meta</th>\n",
              "      <th>uid</th>\n",
              "      <th>sentiment</th>\n",
              "    </tr>\n",
              "  </thead>\n",
              "  <tbody>\n",
              "    <tr>\n",
              "      <th>0</th>\n",
              "      <td>meta</td>\n",
              "      <td>8</td>\n",
              "      <td>neutral</td>\n",
              "    </tr>\n",
              "    <tr>\n",
              "      <th>1</th>\n",
              "      <td>RT</td>\n",
              "      <td>Eng</td>\n",
              "      <td>NaN</td>\n",
              "    </tr>\n",
              "    <tr>\n",
              "      <th>2</th>\n",
              "      <td>@</td>\n",
              "      <td>O</td>\n",
              "      <td>NaN</td>\n",
              "    </tr>\n",
              "    <tr>\n",
              "      <th>3</th>\n",
              "      <td>UAAPconfessions</td>\n",
              "      <td>Eng</td>\n",
              "      <td>NaN</td>\n",
              "    </tr>\n",
              "    <tr>\n",
              "      <th>4</th>\n",
              "      <td>Love</td>\n",
              "      <td>Eng</td>\n",
              "      <td>NaN</td>\n",
              "    </tr>\n",
              "  </tbody>\n",
              "</table>\n",
              "</div>"
            ],
            "text/plain": [
              "              meta  uid sentiment\n",
              "0             meta    8   neutral\n",
              "1               RT  Eng       NaN\n",
              "2                @    O       NaN\n",
              "3  UAAPconfessions  Eng       NaN\n",
              "4             Love  Eng       NaN"
            ]
          },
          "metadata": {
            "tags": []
          },
          "execution_count": 58
        }
      ]
    },
    {
      "cell_type": "code",
      "metadata": {
        "id": "hKRXf0G_Bhg2",
        "colab_type": "code",
        "colab": {
          "base_uri": "https://localhost:8080/",
          "height": 405
        },
        "outputId": "b3d592b0-ef09-4f61-e827-6e328fcd33ee"
      },
      "source": [
        "#data visualization\n",
        "print(\"Shape of the train data (rows, columns) = \",trainDataFrame.shape)\n",
        "print(\"Shape of the test data (rows, columns) = \",testDataFrame.shape)\n",
        "print(trainDataFrame.size)\n",
        "print(testDataFrame.size)\n",
        "print(\"distribution of train data in sentiments is shown in chart below\")\n",
        "trainDataFrame['sentiment'].value_counts().plot(kind='bar')\n",
        "\n"
      ],
      "execution_count": 59,
      "outputs": [
        {
          "output_type": "stream",
          "text": [
            "Shape of the train data (rows, columns) =  (367344, 3)\n",
            "Shape of the test data (rows, columns) =  (50088, 3)\n",
            "1102032\n",
            "150264\n",
            "distribution of train data in sentiments is shown in chart below\n"
          ],
          "name": "stdout"
        },
        {
          "output_type": "execute_result",
          "data": {
            "text/plain": [
              "<matplotlib.axes._subplots.AxesSubplot at 0x7ff48b29cdd8>"
            ]
          },
          "metadata": {
            "tags": []
          },
          "execution_count": 59
        },
        {
          "output_type": "display_data",
          "data": {
            "image/png": "[encoded data removed]",
            "text/plain": [
              "<Figure size 432x288 with 1 Axes>"
            ]
          },
          "metadata": {
            "tags": []
          }
        }
      ]
    },
    {
      "cell_type": "code",
      "metadata": {
        "id": "kq7CNZjxEt8w",
        "colab_type": "code",
        "colab": {
          "base_uri": "https://localhost:8080/",
          "height": 334
        },
        "outputId": "e7f151fc-065f-417f-e778-c462566a0aa3"
      },
      "source": [
        "print(\"distribution of test data in sentiments is shown in chart below\")\n",
        "\n",
        "testDataFrame['sentiment'].value_counts().plot(kind='bar')\n"
      ],
      "execution_count": 60,
      "outputs": [
        {
          "output_type": "stream",
          "text": [
            "distribution of test data in sentiments is shown in chart below\n"
          ],
          "name": "stdout"
        },
        {
          "output_type": "execute_result",
          "data": {
            "text/plain": [
              "<matplotlib.axes._subplots.AxesSubplot at 0x7ff48b43c898>"
            ]
          },
          "metadata": {
            "tags": []
          },
          "execution_count": 60
        },
        {
          "output_type": "display_data",
          "data": {
            "image/png": "[encoded data removed]",
            "text/plain": [
              "<Figure size 432x288 with 1 Axes>"
            ]
          },
          "metadata": {
            "tags": []
          }
        }
      ]
    },
    {
      "cell_type": "code",
      "metadata": {
        "id": "ZUG4YQSNHW-_",
        "colab_type": "code",
        "colab": {}
      },
      "source": [
        ""
      ],
      "execution_count": 0,
      "outputs": []
    },
    {
      "cell_type": "code",
      "metadata": {
        "id": "5Z-whWRzEgm8",
        "colab_type": "code",
        "colab": {}
      },
      "source": [
        "def extractTweetSentiment(df):\n",
        "  data = df.loc[:,['meta','sentiment']]\n",
        "  tempString = \"\"\n",
        "  ListOfTweet = []\n",
        "  ListOfSentiment = []\n",
        "  for i in range(data.shape[0]):\n",
        "    if(data.iloc[i,0]==\"meta\"):\n",
        "      ListOfTweet.append(tempString.strip())\n",
        "      ListOfSentiment.append(str(data.iloc[i,1]))\n",
        "      tempString=\"\"\n",
        "    else:\n",
        "      tempString += (str(data.iloc[i,0])+\" \")\n",
        "  ListOfTweet.append(tempString.strip())\n",
        "  return ListOfTweet[1:], ListOfSentiment"
      ],
      "execution_count": 0,
      "outputs": []
    },
    {
      "cell_type": "code",
      "metadata": {
        "id": "dOvIID4bFwEj",
        "colab_type": "code",
        "colab": {}
      },
      "source": [
        "x_train_list, y_train_list = extractTweetSentiment(trainDataFrame)"
      ],
      "execution_count": 0,
      "outputs": []
    },
    {
      "cell_type": "code",
      "metadata": {
        "id": "5UtRo4UPF3RE",
        "colab_type": "code",
        "colab": {
          "base_uri": "https://localhost:8080/",
          "height": 565
        },
        "outputId": "5f0c6589-7228-4255-e14a-158c725c68ac"
      },
      "source": [
        "#examples\n",
        "import random \n",
        "for i in range(30):\n",
        "  rand = random.randint(1,500)\n",
        "  print(x_train_list[rand],y_train_list[rand],sep = \" sentiment = \")"
      ],
      "execution_count": 68,
      "outputs": [
        {
          "output_type": "stream",
          "text": [
            "@ WaseemBadami @ iqrarulhassan We will miss the beautiful voice of # AmjadSabriShaheed Allah un k darjaat buland far … https // t . co / xf9FkUdfew sentiment = neutral\n",
            "@ Radha274402 nahi radha ji kaon kahta h ki bhagat singh chandrashekhar aajad jaise deshbhakt is dharati pe janm nhi … https // t co / Bx7D82EMXh sentiment = positive\n",
            "@ Chhoti _ Farmer Omg she's so beautiful 😭 so dramatic sentiment = positive\n",
            "@ ChaBoyyHD Chaa .. Can ihave any cheap Ak ? Cuz Ak it's my Fav Weapon .. If u wan we can battle .. if i win u give me … https // t . co / xFDIrkRYpE sentiment = positive\n",
            "@ chitraaum Rassi Jal Gayi par bal nahi gayi EVM par Jor nahi chala to patrakar on ke kapde utaro Kuch To karna hai … https // t . co / a7FFl5cDIs sentiment = negative\n",
            "@ PiyushGoyal @ narendramodi Bahut bahut badhai AAP jaise logo ke Karan hi Modi ji Ko majboori Mili hai . isi tarah se … https // t . co / 0F8OK0aQIW sentiment = positive\n",
            "Aise barish se dosti a66i nahi maaraz tere khud ka gar mitti ka h Ku6 to khyal kar Tera intzar har koi nahi karega … https // t . co / VnzralLxAe sentiment = neutral\n",
            "@ MalboBagums Sari shairi tassali aur dilasay pay hi munhasir hoti hai .. warna shairi kyun karay koi agar pas ho kuch 😜 sentiment = positive\n",
            "@ BaBoo _ sAhEb _ To Tera jat talbani Jess harqate kyu Kar tahe masum logo ko kyu Marta tab Tera ammi kaha Mar jate he … https // t . co / 74Zn3UNmDh sentiment = negative\n",
            "RT @ LukeEclair # FF Have a great weekend ! @ politicaldani @ Bhav _ Popat @ ConnorJonesCons @ ali _ panju @ theblondpond @ stephiebellabb @ MrRhysBenja … sentiment = positive\n",
            "RT @ Jiminthebiaswr1 @ Aslamsunia1 kya kahun me tumhare baray me Tu to meri jaan hr vheez mein do haath agy hai 😏 I love you to Namjoon-I me … sentiment = positive\n",
            "@ Dr _ fizakhan # Pakistani girls photo without Pakistan ka karz Ada karo Pakistani girls for Heera Mandi Mein Bata Do … https // tco / YNyPUqUGo1 sentiment = neutral\n",
            "@ M _ AHMAD884 @ shahnaveid 1971 😂🤣🤣 Lulli hoti nahi khadi Baten karalo badi badi https // t . co / NNkAZEEx3x sentiment = neutral\n",
            "@ narendramodi SIR APKO AUR BJP KO MERI TARAF SE JEET KI BAHUT BAHUT SUBHKAMNAYE APP DESH AUR UCHAIYO PAR LE JAYE P … https // t co / cUQYcRe8GM sentiment = positive\n",
            "@ Shahid _ shono @ Zeeshanpk01 😂😂😂 Exactly Tum jeeto yhh haro hmma tum sa pyar h pakistani team Bss india k mada mukabil aoo sentiment = positive\n",
            "@ IamHaseebAhmad @ majorgauravarya @ UN Ha ha ha . Cow mutr peeke we have won all wars against you guys . You should st … https // t . co / bcPtVRPMYc sentiment = neutral\n",
            "@ Abhishekkar _ CNBC 🤣🤣🤣🤣🤣🤣 AKA sir ne to CNBC ke pahele bol diya tha https // t . co / h1rAzqIHs0 sentiment = neutral\n",
            "@ TigerNeelesh @ bittusempire Khud sharda chitfund ki ghotale ki pramukh waiti hain duaro ko daket bolti hain . Khud c … https // t . co / of3DbvdE3Z sentiment = negative\n",
            "@ phata _ dhol __ Seriously one of the best post i have seen . Bravo nd respect sentiment = positive\n",
            "@ mlkhattar Sir Congratulations on your marvellous victory @ BJP but it seems that no one is ever bothered about sev … https // t . co / 8woRVtJlvE sentiment = negative\n",
            "Desh ke gaddaro ke liye 5 saal bahut painful hoge kyoki Mota Bhai is now home minister of India 🇮🇳 💪😜😜 https // t . co / H1CxoIOYzI sentiment = neutral\n",
            "@ zoo _ bear @ Atheist _ Krishna Zoo bear bhai .... tumara har jagah se kaat Gaya hai .... keep calm and start preparing for 2024... Good luck 👍 sentiment = positive\n",
            "@ LKanath @ iishgroup @ rajeev _ mp @ VMBJP @ surendranbjp @ janamtelevision @ asianetnewstv 🙏 Jai modiji . jai . rss 🇮🇳🇮🇳🚩🚩🌷🌷 https // t . co / VXu6jVQI0m sentiment = positive\n",
            "RT @ Being _ Zeeshan09 Love u Bhaijan ... Father + son .. # Bharat # IAmBharat BEST Pic From Entire # Promotions ... Mashallah 👌♥🔥 https // t . co / o6d … sentiment = positive\n",
            "I miss them we were a craze .. we used for them .. bas koi kuch galat bolde .. old memories https // t . co / NeN57fFIVM sentiment = neutral\n",
            "@ RubikaLiyaquat @ INCIndia Rubika Ji aap bhout badiya aur sach bolne wale Ho aap ek mahan anchor Ho aapke sath har … https // t co / SgJt2TqEkv sentiment = positive\n",
            "@ Serrial _ killer @ Baat _ Sunoo @ ThiMoiz I don't know whether it's correct news or wrong but pubg tou mein nai final sai kafi pehlay chor di thi sentiment = neutral\n",
            "@ snake _ truths Fouj Mulk nahi chala sakti ho sub se mazbut of munazam ha BUT ye Haram Khor Chor Jahil Bey Eman Siasa … https // t . co / YOi3xtAawU sentiment = negative\n",
            "RT @ KangWeli Ewe tante leny memek nya becek seru sape basah kasur nya haa 😀😁😁 i love you tante leny 😘😘😘😘 tar kita ber cinta lgh tante leny … sentiment = positive\n",
            "Yeh toh kuch bhi Nahi hai 5june ke baad world cup bhi postpone ho jaYeGaa Bhai Ka stardom ❤❤ https // t . co / Q6RiDhYJje sentiment = neutral\n"
          ],
          "name": "stdout"
        }
      ]
    },
    {
      "cell_type": "code",
      "metadata": {
        "id": "0ZPxlcuQGkNe",
        "colab_type": "code",
        "colab": {}
      },
      "source": [
        "x_test_list, y_test_list = extractTweetSentiment(testDataFrame)"
      ],
      "execution_count": 0,
      "outputs": []
    },
    {
      "cell_type": "code",
      "metadata": {
        "id": "P_u1PtdCG3ci",
        "colab_type": "code",
        "colab": {
          "base_uri": "https://localhost:8080/",
          "height": 545
        },
        "outputId": "a689af65-df76-4f21-fe22-ffa13996a5c9"
      },
      "source": [
        "#examples for test set\n",
        "for i in range(30):\n",
        "  rand = random.randint(1,500)\n",
        "  print(x_test_list[rand],y_test_list[rand],sep = \" sentiment = \")"
      ],
      "execution_count": 70,
      "outputs": [
        {
          "output_type": "stream",
          "text": [
            "RT @ anjaliicreation Bilal - yeh sab mujhpr rely kar rahe hai D fahad Abb toh saari industry tumpr rely karegi beta our boy making us … sentiment = negative\n",
            "@ Ustadjii oye hoye nikey dar eh te seedhi chaper hi hai ve tere moo te . main te sun v nahi sakda ab kahin abey se … https // t . co / sPJ739l3BN sentiment = positive\n",
            "Champions League final ke liye hamare Tottenham ke fan @ GappistanRadio ko all the best ) How are the nerves ? sentiment = neutral\n",
            "@ BJP4India @ narendramodi @ AmitShah Vijay to honi hi thi magar itani asha nahi thi . desh ki janta ko dhanyvad ki vir … https // t . co / PI47xCEzrH sentiment = positive\n",
            "@ India _ 4970 Tohin qki Mai tumhari tarif kabhi bhi nahi karungi qki tarif aapne se aachhe logo ki ki jati h or Mai t … https // t . co / 7nSFqUg727 sentiment = negative\n",
            "@ ArvindKejriwal AAP ka karyakarta to niswarth hai .. lekin aap to bahut bade swarthi ho .. karyakarta party ke liye k … https // t . co / 0B2PZYUq4U sentiment = negative\n",
            "RT @ MysticxLipstick For Scorpio their full potential not only includes success but actually feeling HAPPY . Happiness is something that S … sentiment = positive\n",
            "Sun be ghi ke .. ab to teri g faadunga suwar ke .. tu ek suwar ka hai ya kyi musalmaan teri ma mei ghuse the https // t . co / PbVDtPuM3f sentiment = negative\n",
            "RT @ anjaliicreation Bilal - yeh sab mujhpr rely kar rahe hai D fahad Abb toh saari industry tumpr rely karegi beta our boy making us … sentiment = negative\n",
            "Bhale hi India or Pakistan k beech cricket world cup ka match ho lekin dekhunga to m # JCBkiKhudaai hi So much fun … https // t co / xL6H2UYKiv sentiment = neutral\n",
            "RT @ hinasafi Ab ye chor $2000 ki drug bolkay funding laingay ( read KHAYENGAY ) aur $8 ki drug Australia se manga k dou chaar din Sindh main … sentiment = negative\n",
            "@ narendramodi adarniya MODI JI apko ek bar fir NEW INDIA ki kaman sambhalne k liye apko HARDIK SHUBHKAMANYE .... in 5… https // t . co / DlrF0wSl4v sentiment = positive\n",
            "Bachpan se lekar ab tak aur aage bhi aap hi mere liye No . 1 rahenge sir @ SrBachchan ❤️❤️ god bless you with good h … https // t . co / IXDkVgjoTq sentiment = positive\n",
            "RT @ Sandeep16049517 @ narendramodi Hamare desh ke asli hero Manniy @ Modi Ji Ko hardik badhai Aapki @ Jeet se aapse jada Mai @ khush hu kas … sentiment = positive\n",
            "Papu ko tavazo deni band ker dewey . Apney app saaff ho jayega . .. aakhir papu papu hay . Prove ker diya 2019 election … https // t . co / 0sKHK4T1sq sentiment = negative\n",
            "@ Xarar786 @ PakSarfrazbugti koch generals ky naam or corruption bhi mention ker daity koi data hy ya bsss sonni sonnai he chor rahy ho sentiment = neutral\n",
            "@ Ra _ Bies Tag @ AmitShah soniaraga + cong torturedthrowawaypunished by fake cases modi + shah + Gujarat ppl insulted is … https // t . co / RNupds8end sentiment = neutral\n",
            "Sahidon ke naam pe vote maang liye bjp walo ne sach to sab ke samne aa hi gaya .. Khud ki mi17 helicaptor khud hi a … https // t . co / BGDbXWksLd sentiment = negative\n",
            "Ye Ye ..... ye ??????? We gonna start another June on a sour note ? Uhhhh yes no yes ...... no ( yes ) sentiment = neutral\n",
            "@ DrKumarVishwas @ mlkhattar Kumar Vishwas ji aap ke pass agar khabar pahle aa gayi toh ak ache nagarik hone ke aate … https // t co / kHSSnvKO0Z sentiment = positive\n",
            "@ kanhaiyakumar Pakistan ki aulad sale Kanhaiya Kumar tere ko bhi Goli marunga behen chod Tere Jaisa Gaddar sale Ham … https // t co / nfJHXMToCc sentiment = positive\n",
            "RT @ lb1lalitabathej @ TamannaInsan15 @ ManishKasaur @ Ritika88255523 @ rajniiinsa7 Love u bhut saara sweetu papa sentiment = positive\n",
            "Sir ji 2007 world cup middle order me batting krne ka chance mila us time apka experience aur feeling Kya thA # SachinOpensAgain sentiment = neutral\n",
            "RT @ lb1lalitabathej @ TamannaInsan15 @ ManishKasaur @ Ritika88255523 @ rajniiinsa7 Love u bhut saara sweetu papa sentiment = positive\n",
            "@ DesiStupides @ kunalkamra88 Apne baap ki photo ko edit kar modi ka face chipka de toh man jau ke tu Ek baap ka paidaish hai sentiment = negative\n",
            "# GinsoyTeamExtreme khel kar 100000 jeetna hai 😃 Aap bhi luck try kro aur compete with friends … https // t . co / 3nDf3TXOXe sentiment = neutral\n",
            "RT @ DimpleDoll777 @ Gurmeetramrahim Papa thnku thnku soooo much 😊😊 Eda hi rehmat bnae rkhyo sohne saai ji 😊😙😙😙😙😙 sentiment = positive\n",
            "RT @ NasirPasir Hanya orang yg betul2 pernah PATAH HATI je boleh feel lagu ni . Dengar lirik dia . Meremang guys 😭 That moment bila finally … sentiment = neutral\n",
            "Champions League final ke liye hamare Tottenham ke fan @ GappistanRadio ko all the best ) How are the nerves ? sentiment = neutral\n",
            "RT @ MysticxLipstick For Scorpio their full potential not only includes success but actually feeling HAPPY . Happiness is something that S … sentiment = positive\n"
          ],
          "name": "stdout"
        }
      ]
    },
    {
      "cell_type": "code",
      "metadata": {
        "id": "AuNRr2-GIYov",
        "colab_type": "code",
        "colab": {
          "base_uri": "https://localhost:8080/",
          "height": 87
        },
        "outputId": "1adab077-2f78-4d1d-c568-33e0257299d1"
      },
      "source": [
        "tknizer = Tokenizer(num_words=None, char_level=True, oov_token='UNK')\n",
        "tknizer.fit_on_texts(x_train_list)\n",
        "print(\"length of x_train_list is \",len(x_train_list))\n",
        "print(\"length of y_train_list is \",len(y_train_list))\n",
        "print(\"length of x_test_list is \",len(x_test_list))\n",
        "print(\"length of y_test_list is \",len(y_test_list))"
      ],
      "execution_count": 74,
      "outputs": [
        {
          "output_type": "stream",
          "text": [
            "length of x_train_list is  13524\n",
            "length of y_train_list is  13524\n",
            "length of x_test_list is  1869\n",
            "length of y_test_list is  1869\n"
          ],
          "name": "stdout"
        }
      ]
    },
    {
      "cell_type": "code",
      "metadata": {
        "id": "4h3ARRj9ItZ2",
        "colab_type": "code",
        "colab": {}
      },
      "source": [
        "dataFor_xTrain = tknizer.texts_to_sequences(x_train_list)\n",
        "dataFor_xTest = tknizer.texts_to_sequences(x_test_list)"
      ],
      "execution_count": 0,
      "outputs": []
    },
    {
      "cell_type": "code",
      "metadata": {
        "id": "7Oa70xmnI82i",
        "colab_type": "code",
        "colab": {}
      },
      "source": [
        ""
      ],
      "execution_count": 0,
      "outputs": []
    },
    {
      "cell_type": "code",
      "metadata": {
        "id": "9Y8QfXj_I_2E",
        "colab_type": "code",
        "colab": {}
      },
      "source": [
        "X_train = pad_sequences(dataFor_xTrain, maxlen=250, padding='post')\n",
        "X_test = pad_sequences(dataFor_xTest, maxlen=250, padding='post')"
      ],
      "execution_count": 0,
      "outputs": []
    },
    {
      "cell_type": "code",
      "metadata": {
        "id": "Y0WPBqmbJJyL",
        "colab_type": "code",
        "colab": {}
      },
      "source": [
        "X_train = np.array(X_train, dtype='float32')\n",
        "X_test = np.array(X_test, dtype='float32')"
      ],
      "execution_count": 0,
      "outputs": []
    },
    {
      "cell_type": "code",
      "metadata": {
        "id": "lALNgrbNJOdf",
        "colab_type": "code",
        "colab": {}
      },
      "source": [
        "from keras.utils import to_categorical as to_intt\n",
        "\n",
        "\n",
        "def convSentimentAsINT(list):\n",
        "  SentiAsINT = []\n",
        "  for i in list:\n",
        "    if(i == \"positive\"):\n",
        "      SentiAsINT.append(0)\n",
        "    elif(i == \"negative\"):\n",
        "      SentiAsINT.append(1)\n",
        "    else:\n",
        "      SentiAsINT.append(2)\n",
        "  \n",
        "  SentiAsINT = np.array(SentiAsINT,dtype='float32')\n",
        "  categoricalSentiments = to_intt(SentiAsINT)\n",
        "\n",
        "  return categoricalSentiments"
      ],
      "execution_count": 0,
      "outputs": []
    },
    {
      "cell_type": "code",
      "metadata": {
        "id": "9xCezcRaJTEN",
        "colab_type": "code",
        "colab": {}
      },
      "source": [
        "Y_train = convSentimentAsINT(y_train_list)\n",
        "Y_test = convSentimentAsINT(y_test_list)"
      ],
      "execution_count": 0,
      "outputs": []
    },
    {
      "cell_type": "code",
      "metadata": {
        "id": "xXilRqI8JXz6",
        "colab_type": "code",
        "colab": {
          "base_uri": "https://localhost:8080/",
          "height": 34
        },
        "outputId": "1c60dd3d-8775-4bef-ea02-193afcce4ec7"
      },
      "source": [
        "total_vacabulary = len(tknizer.word_index)\n",
        "print(\"size of the vocalbuary is \",total_vacabulary)"
      ],
      "execution_count": 92,
      "outputs": [
        {
          "output_type": "stream",
          "text": [
            "size of the vocalbuary is  900\n"
          ],
          "name": "stdout"
        }
      ]
    },
    {
      "cell_type": "code",
      "metadata": {
        "id": "_hT5jA82JcAR",
        "colab_type": "code",
        "colab": {}
      },
      "source": [
        "embedding_weights = []\n",
        "\n",
        "for char, i in tknizer.word_index.items():\n",
        "    onehot = np.zeros(total_vacabulary)\n",
        "    onehot[i - 1] = 1\n",
        "    embedding_weights.append(onehot)\n",
        "\n",
        "embedding_weights = np.array(embedding_weights)"
      ],
      "execution_count": 0,
      "outputs": []
    },
    {
      "cell_type": "code",
      "metadata": {
        "id": "jJHyjZPMJhH4",
        "colab_type": "code",
        "colab": {}
      },
      "source": [
        "from keras.layers import LSTM, Lambda, concatenate, TimeDistributed, Bidirectional\n",
        "\n",
        "from keras.models import Sequential\n",
        "\n",
        "from keras.layers import Conv1D, GlobalMaxPool1D, Embedding, Flatten, Dense, Input, Dropout, MaxPooling1D\n"
      ],
      "execution_count": 0,
      "outputs": []
    },
    {
      "cell_type": "code",
      "metadata": {
        "id": "0j7-FICVJm-5",
        "colab_type": "code",
        "colab": {
          "base_uri": "https://localhost:8080/",
          "height": 721
        },
        "outputId": "42b1c664-150c-4181-f5c3-a993a2835195"
      },
      "source": [
        "overall_sentiments = 3\n",
        "embedding_size = total_vacabulary\n",
        "conv_layers = [[256, 7, 3],\n",
        "               [256, 7, 3],\n",
        "               [256, 3, -1],\n",
        "               [256, 3, -1],\n",
        "               [256, 3, -1],\n",
        "               [256, 3, 3]]\n",
        "\n",
        "\n",
        "batch_size = 128\n",
        "\n",
        "model = Sequential()\n",
        "\n",
        "model.add(Embedding(input_dim=total_vacabulary, output_dim=embedding_size, input_length = 250, weights=[embedding_weights]))\n",
        "\n",
        "for filter_num, filter_size, pooling_size in conv_layers:\n",
        "    model.add(Conv1D(filter_num, filter_size, activation='relu'))\n",
        "    if pooling_size != -1:\n",
        "        model.add(MaxPooling1D(pool_size=pooling_size))\n",
        "\n",
        "model.add(Flatten())\n",
        "\n",
        "model.add(Dense(units=1024, activation='sigmoid'))\n",
        "model.add(Dropout(0.5))\n",
        "\n",
        "model.add(Dense(units=1024, activation='sigmoid'))\n",
        "model.add(Dropout(0.5))\n",
        "\n",
        "model.add(Dense(units=overall_sentiments, activation='softmax'))\n",
        "print(\"the following is the summary of the model\")\n",
        "\n",
        "model.summary()"
      ],
      "execution_count": 106,
      "outputs": [
        {
          "output_type": "stream",
          "text": [
            "Model: \"sequential_7\"\n",
            "_________________________________________________________________\n",
            "Layer (type)                 Output Shape              Param #   \n",
            "=================================================================\n",
            "embedding_7 (Embedding)      (None, 250, 900)          810000    \n",
            "_________________________________________________________________\n",
            "conv1d_37 (Conv1D)           (None, 244, 256)          1613056   \n",
            "_________________________________________________________________\n",
            "max_pooling1d_19 (MaxPooling (None, 81, 256)           0         \n",
            "_________________________________________________________________\n",
            "conv1d_38 (Conv1D)           (None, 75, 256)           459008    \n",
            "_________________________________________________________________\n",
            "max_pooling1d_20 (MaxPooling (None, 25, 256)           0         \n",
            "_________________________________________________________________\n",
            "conv1d_39 (Conv1D)           (None, 23, 256)           196864    \n",
            "_________________________________________________________________\n",
            "conv1d_40 (Conv1D)           (None, 21, 256)           196864    \n",
            "_________________________________________________________________\n",
            "conv1d_41 (Conv1D)           (None, 19, 256)           196864    \n",
            "_________________________________________________________________\n",
            "conv1d_42 (Conv1D)           (None, 17, 256)           196864    \n",
            "_________________________________________________________________\n",
            "max_pooling1d_21 (MaxPooling (None, 5, 256)            0         \n",
            "_________________________________________________________________\n",
            "flatten_7 (Flatten)          (None, 1280)              0         \n",
            "_________________________________________________________________\n",
            "dense_17 (Dense)             (None, 1024)              1311744   \n",
            "_________________________________________________________________\n",
            "dropout_11 (Dropout)         (None, 1024)              0         \n",
            "_________________________________________________________________\n",
            "dense_18 (Dense)             (None, 1024)              1049600   \n",
            "_________________________________________________________________\n",
            "dropout_12 (Dropout)         (None, 1024)              0         \n",
            "_________________________________________________________________\n",
            "dense_19 (Dense)             (None, 3)                 3075      \n",
            "=================================================================\n",
            "Total params: 6,033,939\n",
            "Trainable params: 6,033,939\n",
            "Non-trainable params: 0\n",
            "_________________________________________________________________\n"
          ],
          "name": "stdout"
        }
      ]
    },
    {
      "cell_type": "code",
      "metadata": {
        "id": "L-8b_vceVS4L",
        "colab_type": "code",
        "colab": {}
      },
      "source": [
        "model.compile(optimizer='adam',loss='categorical_crossentropy',metrics=['accuracy'])"
      ],
      "execution_count": 0,
      "outputs": []
    },
    {
      "cell_type": "code",
      "metadata": {
        "id": "L-Ffa7ogVXMa",
        "colab_type": "code",
        "colab": {
          "base_uri": "https://localhost:8080/",
          "height": 1000
        },
        "outputId": "753e8cd3-4c33-4b7f-f9d1-474f0c0bb88e"
      },
      "source": [
        "model.fit(X_train, Y_train, batch_size=128, epochs=30, validation_data=(X_test, Y_test), verbose=1)"
      ],
      "execution_count": 108,
      "outputs": [
        {
          "output_type": "stream",
          "text": [
            "Train on 13524 samples, validate on 1869 samples\n",
            "Epoch 1/30\n",
            "13524/13524 [==============================] - 19s 1ms/step - loss: 1.2550 - acc: 0.3415 - val_loss: 1.0873 - val_acc: 0.4034\n",
            "Epoch 2/30\n",
            "13524/13524 [==============================] - 17s 1ms/step - loss: 1.0614 - acc: 0.4242 - val_loss: 1.0490 - val_acc: 0.4254\n",
            "Epoch 3/30\n",
            "13524/13524 [==============================] - 17s 1ms/step - loss: 0.9605 - acc: 0.5049 - val_loss: 0.9985 - val_acc: 0.4917\n",
            "Epoch 4/30\n",
            "13524/13524 [==============================] - 17s 1ms/step - loss: 0.8950 - acc: 0.5643 - val_loss: 1.0139 - val_acc: 0.5088\n",
            "Epoch 5/30\n",
            "13524/13524 [==============================] - 17s 1ms/step - loss: 0.8408 - acc: 0.6052 - val_loss: 1.0344 - val_acc: 0.4933\n",
            "Epoch 6/30\n",
            "13524/13524 [==============================] - 17s 1ms/step - loss: 0.7880 - acc: 0.6428 - val_loss: 0.9874 - val_acc: 0.5292\n",
            "Epoch 7/30\n",
            "13524/13524 [==============================] - 17s 1ms/step - loss: 0.7369 - acc: 0.6762 - val_loss: 1.0947 - val_acc: 0.5292\n",
            "Epoch 8/30\n",
            "13524/13524 [==============================] - 17s 1ms/step - loss: 0.6246 - acc: 0.7423 - val_loss: 1.0997 - val_acc: 0.5211\n",
            "Epoch 9/30\n",
            "13524/13524 [==============================] - 17s 1ms/step - loss: 0.5407 - acc: 0.7866 - val_loss: 1.1722 - val_acc: 0.5243\n",
            "Epoch 10/30\n",
            "13524/13524 [==============================] - 17s 1ms/step - loss: 0.4419 - acc: 0.8347 - val_loss: 1.4092 - val_acc: 0.5142\n",
            "Epoch 11/30\n",
            "13524/13524 [==============================] - 17s 1ms/step - loss: 0.3489 - acc: 0.8776 - val_loss: 1.4238 - val_acc: 0.5067\n",
            "Epoch 12/30\n",
            "13524/13524 [==============================] - 17s 1ms/step - loss: 0.2981 - acc: 0.8976 - val_loss: 1.5965 - val_acc: 0.5297\n",
            "Epoch 13/30\n",
            "13524/13524 [==============================] - 17s 1ms/step - loss: 0.2291 - acc: 0.9257 - val_loss: 1.6320 - val_acc: 0.5078\n",
            "Epoch 14/30\n",
            "13524/13524 [==============================] - 17s 1ms/step - loss: 0.2140 - acc: 0.9336 - val_loss: 1.6467 - val_acc: 0.5265\n",
            "Epoch 15/30\n",
            "13524/13524 [==============================] - 17s 1ms/step - loss: 0.1831 - acc: 0.9445 - val_loss: 1.8979 - val_acc: 0.5094\n",
            "Epoch 16/30\n",
            "13524/13524 [==============================] - 17s 1ms/step - loss: 0.1540 - acc: 0.9547 - val_loss: 1.9366 - val_acc: 0.5078\n",
            "Epoch 17/30\n",
            "13524/13524 [==============================] - 17s 1ms/step - loss: 0.1420 - acc: 0.9564 - val_loss: 2.0579 - val_acc: 0.5233\n",
            "Epoch 18/30\n",
            "13524/13524 [==============================] - 17s 1ms/step - loss: 0.1313 - acc: 0.9598 - val_loss: 1.9424 - val_acc: 0.4944\n",
            "Epoch 19/30\n",
            "13524/13524 [==============================] - 17s 1ms/step - loss: 0.1083 - acc: 0.9700 - val_loss: 2.1554 - val_acc: 0.5115\n",
            "Epoch 20/30\n",
            "13524/13524 [==============================] - 17s 1ms/step - loss: 0.0986 - acc: 0.9729 - val_loss: 2.0514 - val_acc: 0.5115\n",
            "Epoch 21/30\n",
            "13524/13524 [==============================] - 17s 1ms/step - loss: 0.1143 - acc: 0.9656 - val_loss: 2.0831 - val_acc: 0.5227\n",
            "Epoch 22/30\n",
            "13524/13524 [==============================] - 17s 1ms/step - loss: 0.0947 - acc: 0.9709 - val_loss: 2.1259 - val_acc: 0.5072\n",
            "Epoch 23/30\n",
            "13524/13524 [==============================] - 17s 1ms/step - loss: 0.0970 - acc: 0.9712 - val_loss: 2.2665 - val_acc: 0.5110\n",
            "Epoch 24/30\n",
            "13524/13524 [==============================] - 17s 1ms/step - loss: 0.0936 - acc: 0.9717 - val_loss: 2.4236 - val_acc: 0.5056\n",
            "Epoch 25/30\n",
            "13524/13524 [==============================] - 17s 1ms/step - loss: 0.0808 - acc: 0.9757 - val_loss: 2.1237 - val_acc: 0.5136\n",
            "Epoch 26/30\n",
            "13524/13524 [==============================] - 17s 1ms/step - loss: 0.0623 - acc: 0.9821 - val_loss: 2.3981 - val_acc: 0.5163\n",
            "Epoch 27/30\n",
            "13524/13524 [==============================] - 17s 1ms/step - loss: 0.0665 - acc: 0.9814 - val_loss: 2.4915 - val_acc: 0.5217\n",
            "Epoch 28/30\n",
            "13524/13524 [==============================] - 17s 1ms/step - loss: 0.0623 - acc: 0.9828 - val_loss: 2.1852 - val_acc: 0.5115\n",
            "Epoch 29/30\n",
            "13524/13524 [==============================] - 17s 1ms/step - loss: 0.0608 - acc: 0.9834 - val_loss: 2.4844 - val_acc: 0.5147\n",
            "Epoch 30/30\n",
            "13524/13524 [==============================] - 17s 1ms/step - loss: 0.0655 - acc: 0.9806 - val_loss: 2.1557 - val_acc: 0.5099\n"
          ],
          "name": "stdout"
        },
        {
          "output_type": "execute_result",
          "data": {
            "text/plain": [
              "<keras.callbacks.History at 0x7ff4841ae6d8>"
            ]
          },
          "metadata": {
            "tags": []
          },
          "execution_count": 108
        }
      ]
    },
    {
      "cell_type": "code",
      "metadata": {
        "id": "6_IAMkj6Vejl",
        "colab_type": "code",
        "colab": {}
      },
      "source": [
        "#computing precision recall and precision\n",
        "from sklearn.metrics import confusion_matrix, recall_score, precision_score, f1_score, accuracy_score"
      ],
      "execution_count": 0,
      "outputs": []
    },
    {
      "cell_type": "code",
      "metadata": {
        "id": "dDvddemxbvnY",
        "colab_type": "code",
        "colab": {}
      },
      "source": [
        "f1score = []\n",
        "recalls = []\n",
        "precisions = []\n",
        "accuracy = []\n",
        "\n",
        "predict = (np.array(model.predict(X_test))).round() \n",
        "targ = Y_test\n",
        "f1 = f1_score(targ, predict,average=None)\n",
        "recall = recall_score(targ, predict,average=None)\n",
        "precision = precision_score(targ, predict,average=None)\n",
        "accuracyy = accuracy_score(targ,predict)\n",
        "f1score.append(f1)\n",
        "recalls.append(recall)\n",
        "precisions.append(precision)\n",
        "accuracy.append(accuracyy)\n"
      ],
      "execution_count": 0,
      "outputs": []
    },
    {
      "cell_type": "markdown",
      "metadata": {
        "id": "XGexXrs0Jwnd",
        "colab_type": "text"
      },
      "source": [
        "Results (Accuracy, F1Score, Precision and Recall)"
      ]
    },
    {
      "cell_type": "code",
      "metadata": {
        "id": "tVe4K44vuIZV",
        "colab_type": "code",
        "colab": {
          "base_uri": "https://localhost:8080/",
          "height": 87
        },
        "outputId": "be0725bb-1cfb-4424-9ba5-038f7935f82d"
      },
      "source": [
        "\n",
        "print(\"F1_positive is\",f1[0])\n",
        "print(\"F1_negative is\", f1[1])\n",
        "print(\"F1_Neutral is \", f1[2])\n",
        "print(\"The Accuracy of the model : \",accuracy)"
      ],
      "execution_count": 127,
      "outputs": [
        {
          "output_type": "stream",
          "text": [
            "F1_positive is 0.47405900305188203\n",
            "F1_negative is 0.5497797356828193\n",
            "F1_Neutral is  0.5049751243781093\n",
            "The Accuracy of the model :  [0.5088282504012841]\n"
          ],
          "name": "stdout"
        }
      ]
    },
    {
      "cell_type": "code",
      "metadata": {
        "id": "2-grP4-1ul9W",
        "colab_type": "code",
        "colab": {
          "base_uri": "https://localhost:8080/",
          "height": 70
        },
        "outputId": "501b2ae3-acf9-4bb0-9337-7bb15cb7e713"
      },
      "source": [
        "print(\"Precision_Positive is\", precision[0])\n",
        "print(\"Precision_Negative is\", precision[1])\n",
        "print(\"Precision_Neutral is\", precision[2])"
      ],
      "execution_count": 128,
      "outputs": [
        {
          "output_type": "stream",
          "text": [
            "Precision_Positive is 0.5810473815461347\n",
            "Precision_Negative is 0.5182724252491694\n",
            "Precision_Neutral is 0.47540983606557374\n"
          ],
          "name": "stdout"
        }
      ]
    },
    {
      "cell_type": "code",
      "metadata": {
        "id": "64h_7kQrvDnT",
        "colab_type": "code",
        "colab": {
          "base_uri": "https://localhost:8080/",
          "height": 70
        },
        "outputId": "59dc0337-c9c0-4892-a46c-3ee1518dd073"
      },
      "source": [
        "print(\"similarly recall_Positive\",recall[0])\n",
        "print(\"recall_negative is\",recall[1])\n",
        "print(\"recall_Neutral is\",recall[2])"
      ],
      "execution_count": 129,
      "outputs": [
        {
          "output_type": "stream",
          "text": [
            "similarly recall_Positive 0.40034364261168387\n",
            "recall_negative is 0.5853658536585366\n",
            "recall_Neutral is 0.5384615384615384\n"
          ],
          "name": "stdout"
        }
      ]
    }
  ]
}